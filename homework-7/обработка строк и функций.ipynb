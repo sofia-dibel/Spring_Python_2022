{
 "cells": [
  {
   "cell_type": "code",
   "execution_count": 80,
   "id": "a07a1233",
   "metadata": {},
   "outputs": [
    {
     "name": "stdout",
     "output_type": "stream",
     "text": [
      "1 2 3 4 5\n",
      "1 3 5\n"
     ]
    }
   ],
   "source": [
    "# 1 Четные индексы\n",
    "print(*input().split()[0::2])"
   ]
  },
  {
   "cell_type": "code",
   "execution_count": 47,
   "id": "2724dee6",
   "metadata": {},
   "outputs": [
    {
     "name": "stdout",
     "output_type": "stream",
     "text": [
      "1 2 3 2 1\n",
      "3 2\n"
     ]
    }
   ],
   "source": [
    "# 2 Наибольший элемент и его индекс \n",
    "s = list(map(int, input().split()))\n",
    "print(max(s), s.index(max(s)))"
   ]
  },
  {
   "cell_type": "code",
   "execution_count": 48,
   "id": "65042d95",
   "metadata": {},
   "outputs": [
    {
     "name": "stdout",
     "output_type": "stream",
     "text": [
      "1 2 3 4 5\n",
      "5 4 3 2 1\n"
     ]
    }
   ],
   "source": [
    "# 3 Вывести в обратном порядке \n",
    "print(' '.join(input().split()[-1::-1]))"
   ]
  },
  {
   "cell_type": "code",
   "execution_count": 24,
   "id": "28f78d1e",
   "metadata": {},
   "outputs": [
    {
     "name": "stdout",
     "output_type": "stream",
     "text": [
      "1 2 3 4 5\n",
      "2 1 4 3 5\n"
     ]
    }
   ],
   "source": [
    "# 4 Переставить соседние \n",
    "s = input().split()\n",
    "s[:len(s) - len(s) % 2:2], s[1::2] = s[1::2], s[:len(s) - len(s) % 2:2]\n",
    "print(*s)"
   ]
  },
  {
   "cell_type": "code",
   "execution_count": 49,
   "id": "c792fae8",
   "metadata": {},
   "outputs": [
    {
     "name": "stdout",
     "output_type": "stream",
     "text": [
      "1 2 3 4 5\n",
      "5 1 2 3 4\n"
     ]
    }
   ],
   "source": [
    "# 5 Циклический сдвиг вправо \n",
    "s = input().split()\n",
    "print(s[-1], ' '.join(s[:-1]))"
   ]
  },
  {
   "cell_type": "code",
   "execution_count": 50,
   "id": "f3dcf2b3",
   "metadata": {},
   "outputs": [
    {
     "name": "stdout",
     "output_type": "stream",
     "text": [
      "7 6 5 4 3 2 1\n",
      "2\n",
      "7 6 4 3 2 1\n"
     ]
    }
   ],
   "source": [
    "# 6 Удалить элемент \n",
    "s, i = input().split(), int(input())\n",
    "s.pop(i)\n",
    "print(' '.join(s))"
   ]
  },
  {
   "cell_type": "code",
   "execution_count": 30,
   "id": "693670f0",
   "metadata": {},
   "outputs": [
    {
     "name": "stdout",
     "output_type": "stream",
     "text": [
      "7 6 5 4 3 2 1\n",
      "2 0\n",
      "7 6 0 5 4 3 2 1\n"
     ]
    }
   ],
   "source": [
    "# 7 Вставить элемент \n",
    "s = input().split()\n",
    "n, elem = map(int, input().split()) \n",
    "print(*s[:n], elem, *s[n:])"
   ]
  },
  {
   "cell_type": "code",
   "execution_count": 32,
   "id": "0145fc6d",
   "metadata": {},
   "outputs": [
    {
     "name": "stdout",
     "output_type": "stream",
     "text": [
      "5 3 7 4 6\n",
      "3\n",
      "7 4 6 5 3\n"
     ]
    }
   ],
   "source": [
    "# 8 Большой сдвиг \n",
    "s, n = input().split(), int(input())\n",
    "print(*s[n - 1:], *s[:n - 1])"
   ]
  }
 ],
 "metadata": {
  "kernelspec": {
   "display_name": "Python 3",
   "language": "python",
   "name": "python3"
  },
  "language_info": {
   "codemirror_mode": {
    "name": "ipython",
    "version": 3
   },
   "file_extension": ".py",
   "mimetype": "text/x-python",
   "name": "python",
   "nbconvert_exporter": "python",
   "pygments_lexer": "ipython3",
   "version": "3.8.5"
  }
 },
 "nbformat": 4,
 "nbformat_minor": 5
}
