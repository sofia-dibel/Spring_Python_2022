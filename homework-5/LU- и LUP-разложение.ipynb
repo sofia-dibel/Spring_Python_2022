{
 "cells": [
  {
   "cell_type": "markdown",
   "id": "7bf3d352",
   "metadata": {},
   "source": [
    "# LU- и LUP-разложение"
   ]
  },
  {
   "cell_type": "markdown",
   "id": "4bdb3fcd",
   "metadata": {},
   "source": [
    "#### Дибель Софья Васильевна НПМбд-01-19"
   ]
  },
  {
   "cell_type": "markdown",
   "id": "8cf9e2c5",
   "metadata": {},
   "source": [
    "СЛАУ можно записать в матричном виде A * x = b. \n",
    "Если матрица A не вырождена, то решение можно найти в виде x = A^(-1) * b.\n",
    "\n",
    "С другой стороны, можно искать решение методом LU и LUP разложений."
   ]
  },
  {
   "cell_type": "code",
   "execution_count": 16,
   "id": "2747da36",
   "metadata": {},
   "outputs": [],
   "source": [
    "import numpy as np\n",
    "import scipy.linalg\n",
    "\n",
    "A = np.array([[0, 9, 3],\n",
    "              [4, 1, 3],\n",
    "              [7, 1, 10]],\n",
    "             dtype=float)\n",
    "\n",
    "b = np.array([1, 2, 3], dtype=float)"
   ]
  },
  {
   "cell_type": "markdown",
   "id": "8ed1e952",
   "metadata": {},
   "source": [
    "### LU-разложение"
   ]
  },
  {
   "cell_type": "markdown",
   "id": "d0a78747",
   "metadata": {},
   "source": [
    "Представляем матрицу A в виде A = L * U, где L - нижняя треугольная матрица с единицами на диагонали, U - верхняя треугольная матрица."
   ]
  },
  {
   "cell_type": "code",
   "execution_count": 18,
   "id": "ff8a29a0",
   "metadata": {},
   "outputs": [],
   "source": [
    "def LU(A):\n",
    "    n = A.shape[0]\n",
    "    U = A.copy()\n",
    "    L = np.eye(n, dtype=float)\n",
    "    \n",
    "    for i in range(n):\n",
    "        L[i + 1:, i] = U[i + 1:, i] / U[i, i]\n",
    "        U[i + 1:] = (U[i + 1:] - L[i + 1:, i, np.newaxis] * U[i])\n",
    "            \n",
    "    return L, U"
   ]
  },
  {
   "cell_type": "markdown",
   "id": "32d460fa",
   "metadata": {},
   "source": [
    "Проверяем: A = L * U"
   ]
  },
  {
   "cell_type": "code",
   "execution_count": 19,
   "id": "efc43ca3",
   "metadata": {},
   "outputs": [
    {
     "name": "stdout",
     "output_type": "stream",
     "text": [
      "A:\n",
      "[[ 0.  9.  3.]\n",
      " [ 4.  1.  3.]\n",
      " [ 7.  1. 10.]]\n",
      "\n",
      "L * U\n",
      "[[nan nan nan]\n",
      " [nan nan nan]\n",
      " [nan nan nan]]\n",
      "\n"
     ]
    },
    {
     "name": "stderr",
     "output_type": "stream",
     "text": [
      "<ipython-input-18-7a8a8a13b585>:7: RuntimeWarning: divide by zero encountered in true_divide\n",
      "  L[i + 1:, i] = U[i + 1:, i] / U[i, i]\n",
      "<ipython-input-18-7a8a8a13b585>:8: RuntimeWarning: invalid value encountered in multiply\n",
      "  U[i + 1:] = (U[i + 1:] - L[i + 1:, i, np.newaxis] * U[i])\n",
      "<ipython-input-18-7a8a8a13b585>:7: RuntimeWarning: invalid value encountered in true_divide\n",
      "  L[i + 1:, i] = U[i + 1:, i] / U[i, i]\n"
     ]
    }
   ],
   "source": [
    "print('A:')\n",
    "print(A)\n",
    "print()\n",
    "\n",
    "L, U = LU(A)\n",
    "\n",
    "print('L * U')\n",
    "print(L.dot(U))\n",
    "print()"
   ]
  },
  {
   "cell_type": "markdown",
   "id": "1e5ca26c",
   "metadata": {},
   "source": [
    "### LUP-разложение"
   ]
  },
  {
   "cell_type": "markdown",
   "id": "dbf7a931",
   "metadata": {},
   "source": [
    "В LU-разложении мы делим на диагональный элемент матрицы А, но может быть и так, что он равен нулю. Тогда мы можем в изначальной матрице переставлять строки, чтобы на диагонали был не 0, и запоминать перестановки в матрицу перестановок P."
   ]
  },
  {
   "cell_type": "code",
   "execution_count": 20,
   "id": "f77a58f1",
   "metadata": {},
   "outputs": [],
   "source": [
    "def LUP(A):\n",
    "    n = A.shape[0]\n",
    "    U = A.copy()\n",
    "    L = np.eye(n, dtype=np.double)\n",
    "    P = np.eye(n, dtype=np.double)\n",
    "\n",
    "    for i in range(n - 1):\n",
    "        if U[i, i] == 0:\n",
    "            U[[i, i + 1]] = U[[i + 1, i]]\n",
    "            P[[i, i + 1]] = P[[i + 1, i]]\n",
    "\n",
    "    for i in range(n):\n",
    "        L[i + 1:, i] = U[i + 1:, i] / U[i, i]\n",
    "        U[i + 1:] = (U[i + 1:] - L[i + 1:, i, np.newaxis] * U[i])\n",
    "    return (P, L, U)"
   ]
  },
  {
   "cell_type": "markdown",
   "id": "d845f576",
   "metadata": {},
   "source": [
    "Проверяем: A = P.T * L * U"
   ]
  },
  {
   "cell_type": "code",
   "execution_count": 21,
   "id": "f703e28f",
   "metadata": {},
   "outputs": [
    {
     "name": "stdout",
     "output_type": "stream",
     "text": [
      "A\n",
      "[[ 0.  9.  3.]\n",
      " [ 4.  1.  3.]\n",
      " [ 7.  1. 10.]]\n",
      "\n",
      "P.T * L * U\n",
      "[[ 0.  9.  3.]\n",
      " [ 4.  1.  3.]\n",
      " [ 7.  1. 10.]]\n",
      "\n"
     ]
    }
   ],
   "source": [
    "P, L, U = LUP(A)\n",
    "\n",
    "print('A')\n",
    "print(A)\n",
    "print()\n",
    "\n",
    "print('P.T * L * U')\n",
    "print(P.T.dot(L.dot(U)))\n",
    "print()"
   ]
  },
  {
   "cell_type": "markdown",
   "id": "f478c7f2",
   "metadata": {},
   "source": [
    "Решаем систему L * y = b"
   ]
  },
  {
   "cell_type": "code",
   "execution_count": 22,
   "id": "a6d6cd63",
   "metadata": {},
   "outputs": [],
   "source": [
    "def forward_substitution(L, b):\n",
    "    n = A.shape[0]\n",
    "    y = np.zeros_like(b, dtype=np.double)\n",
    "    y[0] = b[0] / L[0, 0]\n",
    "    \n",
    "    for i in range(1, n):\n",
    "        y[i] = (b[i] - np.dot(L[i, :i], y[:i])) / L[i, i]\n",
    "        \n",
    "    return y"
   ]
  },
  {
   "cell_type": "markdown",
   "id": "db85b257",
   "metadata": {},
   "source": [
    "Решаем систему U * x = y"
   ]
  },
  {
   "cell_type": "code",
   "execution_count": 23,
   "id": "3856e6cd",
   "metadata": {},
   "outputs": [],
   "source": [
    "def back_substitution(U, y):\n",
    "    n = U.shape[0]\n",
    "    x = np.zeros_like(y, dtype=np.double);\n",
    "\n",
    "    x[-1] = y[-1] / U[-1, -1]\n",
    "\n",
    "    for i in range(n - 2, -1, -1):\n",
    "        x[i] = (y[i] - np.dot(U[i, i:], x[i:])) / U[i, i]\n",
    "        \n",
    "    return x"
   ]
  },
  {
   "cell_type": "markdown",
   "id": "5123d9dc",
   "metadata": {},
   "source": [
    "### Солверы"
   ]
  },
  {
   "cell_type": "code",
   "execution_count": 24,
   "id": "5921504b",
   "metadata": {},
   "outputs": [],
   "source": [
    "def LU_solve(A, b):\n",
    "    L, U = LU(A)\n",
    "    y = forward_substitution(L, b)\n",
    "    \n",
    "    return back_substitution(U, y)"
   ]
  },
  {
   "cell_type": "code",
   "execution_count": 25,
   "id": "c776e202",
   "metadata": {},
   "outputs": [],
   "source": [
    "def LUP_solve(A, b):\n",
    "    P, L, U = LUP(A)\n",
    "    y = forward_substitution(L, np.dot(P.T, b))\n",
    "    \n",
    "    return back_substitution(U, y)"
   ]
  },
  {
   "cell_type": "markdown",
   "id": "6d46784a",
   "metadata": {},
   "source": [
    "Решение через LU: он будет выдавать array([nan, nan, nan]), если на диагонали будет 0"
   ]
  },
  {
   "cell_type": "code",
   "execution_count": 26,
   "id": "f3384b24",
   "metadata": {},
   "outputs": [
    {
     "name": "stderr",
     "output_type": "stream",
     "text": [
      "<ipython-input-18-7a8a8a13b585>:7: RuntimeWarning: divide by zero encountered in true_divide\n",
      "  L[i + 1:, i] = U[i + 1:, i] / U[i, i]\n",
      "<ipython-input-18-7a8a8a13b585>:8: RuntimeWarning: invalid value encountered in multiply\n",
      "  U[i + 1:] = (U[i + 1:] - L[i + 1:, i, np.newaxis] * U[i])\n",
      "<ipython-input-18-7a8a8a13b585>:7: RuntimeWarning: invalid value encountered in true_divide\n",
      "  L[i + 1:, i] = U[i + 1:, i] / U[i, i]\n"
     ]
    },
    {
     "data": {
      "text/plain": [
       "array([nan, nan, nan])"
      ]
     },
     "execution_count": 26,
     "metadata": {},
     "output_type": "execute_result"
    }
   ],
   "source": [
    "LU_solve(A, b)"
   ]
  },
  {
   "cell_type": "markdown",
   "id": "46455d43",
   "metadata": {},
   "source": [
    "Решение через LUP: подходит для матриц с нулем на диагонали"
   ]
  },
  {
   "cell_type": "code",
   "execution_count": 27,
   "id": "836525cf",
   "metadata": {},
   "outputs": [
    {
     "data": {
      "text/plain": [
       "array([ 0.52777778,  0.13888889, -0.08333333])"
      ]
     },
     "execution_count": 27,
     "metadata": {},
     "output_type": "execute_result"
    }
   ],
   "source": [
    "LUP_solve(A, b)"
   ]
  },
  {
   "cell_type": "markdown",
   "id": "10a7c083",
   "metadata": {},
   "source": [
    "Решение через numpy"
   ]
  },
  {
   "cell_type": "code",
   "execution_count": 28,
   "id": "8d8494d8",
   "metadata": {},
   "outputs": [
    {
     "data": {
      "text/plain": [
       "array([ 0.52777778,  0.13888889, -0.08333333])"
      ]
     },
     "execution_count": 28,
     "metadata": {},
     "output_type": "execute_result"
    }
   ],
   "source": [
    "np.linalg.solve(A, b)"
   ]
  },
  {
   "cell_type": "markdown",
   "id": "5a70bf99",
   "metadata": {},
   "source": [
    "#### Вроде сходится"
   ]
  },
  {
   "cell_type": "markdown",
   "id": "70618050",
   "metadata": {},
   "source": [
    "Основное преимущество этих методов заключается в том, что столбец b при решении СЛАУ используется только на заключительном этапе (в солверах). Таким образом, если решается серия СЛАУ с одной и той же матрицей коэффициентов A, но разными правыми частями b, то очень выгодно один раз вычислить LU-разложение матрицы A, а уже за тем решать конкретные системы, меняя столбец свободных членов."
   ]
  }
 ],
 "metadata": {
  "kernelspec": {
   "display_name": "Python 3",
   "language": "python",
   "name": "python3"
  },
  "language_info": {
   "codemirror_mode": {
    "name": "ipython",
    "version": 3
   },
   "file_extension": ".py",
   "mimetype": "text/x-python",
   "name": "python",
   "nbconvert_exporter": "python",
   "pygments_lexer": "ipython3",
   "version": "3.8.5"
  }
 },
 "nbformat": 4,
 "nbformat_minor": 5
}
