{
 "cells": [
  {
   "cell_type": "markdown",
   "id": "71ec628a",
   "metadata": {},
   "source": [
    "# LU- и LUP-разложение"
   ]
  },
  {
   "cell_type": "markdown",
   "id": "39aab347",
   "metadata": {},
   "source": [
    "#### Дибель Софья Васильевна НПМбд-01-19"
   ]
  },
  {
   "cell_type": "markdown",
   "id": "8c4c8945",
   "metadata": {},
   "source": [
    "СЛАУ можно записать в матричном виде A * x = b. \n",
    "Если матрица A не вырождена, то решение можно найти в виде x = A^(-1) * b.\n",
    "\n",
    "С другой стороны, можно искать решение методом LU и LUP разложений."
   ]
  },
  {
   "cell_type": "code",
   "execution_count": 317,
   "id": "c2dc1dd0",
   "metadata": {},
   "outputs": [],
   "source": [
    "import numpy as np\n",
    "import scipy.linalg\n",
    "\n",
    "A = np.array([[1, 9, 3],\n",
    "              [4, 1, 3],\n",
    "              [7, 1, 10]],\n",
    "             dtype=float)\n",
    "\n",
    "b = np.array([1, 2, 3], dtype=float)"
   ]
  },
  {
   "cell_type": "markdown",
   "id": "9b53d7e9",
   "metadata": {},
   "source": [
    "### LU-разложение"
   ]
  },
  {
   "cell_type": "markdown",
   "id": "c8b4abcd",
   "metadata": {},
   "source": [
    "Представляем матрицу A в виде A = L * U, где L - нижняя треугольная матрица с единицами на диагонали, U - верхняя треугольная матрица."
   ]
  },
  {
   "cell_type": "code",
   "execution_count": 318,
   "id": "549cb3b8",
   "metadata": {},
   "outputs": [],
   "source": [
    "def LU(A):\n",
    "    n = A.shape[0]\n",
    "    U = A.copy()\n",
    "    L = np.eye(n, dtype=float)\n",
    "    \n",
    "    for i in range(n):\n",
    "        L[i + 1:, i] = U[i + 1:, i] / U[i, i]\n",
    "        U[i + 1:] = (U[i + 1:] - L[i + 1:, i, np.newaxis] * U[i])\n",
    "            \n",
    "    return L, U"
   ]
  },
  {
   "cell_type": "markdown",
   "id": "aa99818e",
   "metadata": {},
   "source": [
    "Проверяем: A = L * U"
   ]
  },
  {
   "cell_type": "code",
   "execution_count": 319,
   "id": "456e91d4",
   "metadata": {},
   "outputs": [
    {
     "name": "stdout",
     "output_type": "stream",
     "text": [
      "A:\n",
      "[[ 1.  9.  3.]\n",
      " [ 4.  1.  3.]\n",
      " [ 7.  1. 10.]]\n",
      "\n",
      "L * U\n",
      "[[ 1.  9.  3.]\n",
      " [ 4.  1.  3.]\n",
      " [ 7.  1. 10.]]\n",
      "\n"
     ]
    }
   ],
   "source": [
    "print('A:')\n",
    "print(A)\n",
    "print()\n",
    "\n",
    "L, U = LU(A)\n",
    "\n",
    "print('L * U')\n",
    "print(L.dot(U))\n",
    "print()"
   ]
  },
  {
   "cell_type": "markdown",
   "id": "9e02f649",
   "metadata": {},
   "source": [
    "### LUP-разложение"
   ]
  },
  {
   "cell_type": "markdown",
   "id": "742117b8",
   "metadata": {},
   "source": [
    "В LU-разложении мы делим на диагональный элемент матрицы А, но может быть и так, что он равен нулю. Тогда мы можем в изначальной матрице переставлять строки, чтобы на диагонали был не 0, и запоминать перестановки в матрицу перестановок P."
   ]
  },
  {
   "cell_type": "code",
   "execution_count": 321,
   "id": "8b74ef5a",
   "metadata": {},
   "outputs": [],
   "source": [
    "def LUP(A):\n",
    "    n = A.shape[0]\n",
    "    U = A.copy()\n",
    "    L = np.eye(n, dtype=np.double)\n",
    "    P = np.eye(n, dtype=np.double)\n",
    "\n",
    "    for i in range(n - 1):\n",
    "        if U[i, i] == 0:\n",
    "            U[[i, i + 1]] = U[[i + 1, i]]\n",
    "            P[[i, i + 1]] = P[[i + 1, i]]\n",
    "\n",
    "    for i in range(n):\n",
    "        L[i + 1:, i] = U[i + 1:, i] / U[i, i]\n",
    "        U[i + 1:] = (U[i + 1:] - L[i + 1:, i, np.newaxis] * U[i])\n",
    "    return (P, L, U)"
   ]
  },
  {
   "cell_type": "markdown",
   "id": "f8008ad6",
   "metadata": {},
   "source": [
    "Проверяем: A = P * L * U"
   ]
  },
  {
   "cell_type": "code",
   "execution_count": 322,
   "id": "442fc9f8",
   "metadata": {},
   "outputs": [
    {
     "name": "stdout",
     "output_type": "stream",
     "text": [
      "A\n",
      "[[ 1.  9.  3.]\n",
      " [ 4.  1.  3.]\n",
      " [ 7.  1. 10.]]\n",
      "\n",
      "P * L * U\n",
      "[[ 1.  9.  3.]\n",
      " [ 4.  1.  3.]\n",
      " [ 7.  1. 10.]]\n",
      "\n"
     ]
    }
   ],
   "source": [
    "P, L, U = LUP(A)\n",
    "\n",
    "print('A')\n",
    "print(A)\n",
    "print()\n",
    "\n",
    "print('P * L * U')\n",
    "print(P.dot(L.dot(U)))\n",
    "print()"
   ]
  },
  {
   "cell_type": "markdown",
   "id": "5275ad27",
   "metadata": {},
   "source": [
    "Решаем систему L * y = b"
   ]
  },
  {
   "cell_type": "code",
   "execution_count": 323,
   "id": "5d39c573",
   "metadata": {},
   "outputs": [],
   "source": [
    "def forward_substitution(L, b):\n",
    "    n = A.shape[0]\n",
    "    y = np.zeros_like(b, dtype=np.double)\n",
    "    y[0] = b[0] / L[0, 0]\n",
    "    \n",
    "    for i in range(1, n):\n",
    "        y[i] = (b[i] - np.dot(L[i, :i], y[:i])) / L[i, i]\n",
    "        \n",
    "    return y"
   ]
  },
  {
   "cell_type": "markdown",
   "id": "cbd299c6",
   "metadata": {},
   "source": [
    "Решаем систему U * x = y"
   ]
  },
  {
   "cell_type": "code",
   "execution_count": 324,
   "id": "617d34c8",
   "metadata": {},
   "outputs": [],
   "source": [
    "def back_substitution(U, y):\n",
    "    n = U.shape[0]\n",
    "    x = np.zeros_like(y, dtype=np.double);\n",
    "\n",
    "    x[-1] = y[-1] / U[-1, -1]\n",
    "\n",
    "    for i in range(n - 2, -1, -1):\n",
    "        x[i] = (y[i] - np.dot(U[i, i:], x[i:])) / U[i, i]\n",
    "        \n",
    "    return x"
   ]
  },
  {
   "cell_type": "markdown",
   "id": "35ff0154",
   "metadata": {},
   "source": [
    "### Солверы"
   ]
  },
  {
   "cell_type": "code",
   "execution_count": 325,
   "id": "62eaa4c9",
   "metadata": {},
   "outputs": [],
   "source": [
    "def LU_solve(A, b):\n",
    "    L, U = LU(A)\n",
    "    y = forward_substitution(L, b)\n",
    "    \n",
    "    return back_substitution(U, y)"
   ]
  },
  {
   "cell_type": "code",
   "execution_count": 326,
   "id": "dbfea166",
   "metadata": {},
   "outputs": [],
   "source": [
    "def LUP_solve(A, b):\n",
    "    P, L, U = LUP(A)\n",
    "    y = forward_substitution(L, np.dot(P, b))\n",
    "    \n",
    "    return back_substitution(U, y)"
   ]
  },
  {
   "cell_type": "markdown",
   "id": "bd339977",
   "metadata": {},
   "source": [
    "Решение через LU: он будет выдавать array([nan, nan, nan]), если на диагонали будет 0"
   ]
  },
  {
   "cell_type": "code",
   "execution_count": 327,
   "id": "912cd757",
   "metadata": {},
   "outputs": [
    {
     "data": {
      "text/plain": [
       "array([ 0.54913295,  0.08092486, -0.09248555])"
      ]
     },
     "execution_count": 327,
     "metadata": {},
     "output_type": "execute_result"
    }
   ],
   "source": [
    "LU_solve(A, b)"
   ]
  },
  {
   "cell_type": "markdown",
   "id": "b8bb4275",
   "metadata": {},
   "source": [
    "Решение через LUP: подходит для матриц с нулем на диагонали"
   ]
  },
  {
   "cell_type": "code",
   "execution_count": 328,
   "id": "feb4f20e",
   "metadata": {},
   "outputs": [
    {
     "data": {
      "text/plain": [
       "array([ 0.54913295,  0.08092486, -0.09248555])"
      ]
     },
     "execution_count": 328,
     "metadata": {},
     "output_type": "execute_result"
    }
   ],
   "source": [
    "LUP_solve(A, b)"
   ]
  },
  {
   "cell_type": "markdown",
   "id": "1efcad9f",
   "metadata": {},
   "source": [
    "Решение через numpy"
   ]
  },
  {
   "cell_type": "code",
   "execution_count": 329,
   "id": "7abd8fef",
   "metadata": {},
   "outputs": [
    {
     "data": {
      "text/plain": [
       "array([ 0.54913295,  0.08092486, -0.09248555])"
      ]
     },
     "execution_count": 329,
     "metadata": {},
     "output_type": "execute_result"
    }
   ],
   "source": [
    "np.linalg.solve(A, b)"
   ]
  },
  {
   "cell_type": "markdown",
   "id": "3aa672b4",
   "metadata": {},
   "source": [
    "#### Вроде сходится"
   ]
  },
  {
   "cell_type": "markdown",
   "id": "a4802a8e",
   "metadata": {},
   "source": [
    "Основное преимущество этих методов заключается в том, что столбец b при решении СЛАУ используется только на заключительном этапе (в солверах). Таким образом, если решается серия СЛАУ с одной и той же матрицей коэффициентов A, но разными правыми частями b, то очень выгодно один раз вычислить LU-разложение матрицы A, а уже за тем решать конкретные системы, меняя столбец свободных членов."
   ]
  }
 ],
 "metadata": {
  "kernelspec": {
   "display_name": "Python 3",
   "language": "python",
   "name": "python3"
  },
  "language_info": {
   "codemirror_mode": {
    "name": "ipython",
    "version": 3
   },
   "file_extension": ".py",
   "mimetype": "text/x-python",
   "name": "python",
   "nbconvert_exporter": "python",
   "pygments_lexer": "ipython3",
   "version": "3.8.5"
  }
 },
 "nbformat": 4,
 "nbformat_minor": 5
}
